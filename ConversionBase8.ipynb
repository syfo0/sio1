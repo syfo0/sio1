{
  "nbformat": 4,
  "nbformat_minor": 0,
  "metadata": {
    "colab": {
      "name": "ConversionBases.ipynb",
      "provenance": [],
      "collapsed_sections": [],
      "authorship_tag": "ABX9TyOIOL5Nx6+Y0WFrZH+TDlKs",
      "include_colab_link": true
    },
    "kernelspec": {
      "name": "python3",
      "display_name": "Python 3"
    }
  },
  "cells": [
    {
      "cell_type": "markdown",
      "metadata": {
        "id": "view-in-github",
        "colab_type": "text"
      },
      "source": [
        "<a href=\"https://colab.research.google.com/github/thfruchart/sio1/blob/master/ConversionBase8.ipynb\" target=\"_parent\"><img src=\"https://colab.research.google.com/assets/colab-badge.svg\" alt=\"Open In Colab\"/></a>"
      ]
    },
    {
      "cell_type": "markdown",
      "metadata": {
        "id": "jZw-TMCOEsbH"
      },
      "source": [
        "# Objectif 1 : nombre entiers"
      ]
    },
    {
      "cell_type": "markdown",
      "metadata": {
        "id": "gxzRJc4_HIK_"
      },
      "source": [
        "## **1)** Programmer une fonction `poids(txt)` qui\r\n",
        "* prend en argument un texte `txt` contenant les chiffres de l'écriture d'un nombre entier en base 8 (octal) \r\n",
        "* renvoie un tableau donnant le \"poids\" de chaque chiffre en base 10 (décimal). \r\n",
        "\r\n",
        "\r\n",
        "Exemples : \r\n",
        "* si `txt = '1752'` alors `poids(txt)` renvoie le tableau `[512,64,8,1]` c'est à dire les puissances de 8 suivantes : $ 8^3 ,8^2 ,8^1 ,8^0$.\r\n",
        "* si `txt = '175'` alors `poids(txt)` renvoie le tableau `[64,8,1]` c'est à dire les puissances de 8 suivantes  : $ 8^2 ,8^1 ,8^0$."
      ]
    },
    {
      "cell_type": "code",
      "metadata": {
        "id": "uapYHTgOH8pJ"
      },
      "source": [
        "def poids(txt):\r\n",
        "    resu = [1] * len(txt)\r\n",
        "    return resu"
      ],
      "execution_count": 3,
      "outputs": []
    },
    {
      "cell_type": "markdown",
      "metadata": {
        "id": "R-qqIWMyHoZV"
      },
      "source": [
        "## **2)** Programmer  une fonction `decimal(txt)` qui : \r\n",
        "* prend en argument un texte `txt` contenant les chiffres de l'écriture d'un nombre entier en base 8 (octal) \r\n",
        "* renvoie ce nombre entier en base 10. \r\n",
        "* cette fonction pourra faire appel à `poids(txt)`\r\n",
        "\r\n",
        "\r\n",
        "Exemple : si `txt = '1752'` alors `poids(txt)` renvoie `1002` car:\r\n",
        "* $1002=1 \\times 8^3 + 7 \\times 8^2 + 5 \\times8 + 2$\r\n",
        "* soit $1002=1 \\times 512 + 7 \\times 64 + 5 \\times8 + 2$"
      ]
    },
    {
      "cell_type": "code",
      "metadata": {
        "id": "maex3kf-ILqn"
      },
      "source": [
        ""
      ],
      "execution_count": 4,
      "outputs": []
    },
    {
      "cell_type": "markdown",
      "metadata": {
        "id": "hrP4HCnZG9RP"
      },
      "source": [
        "# Objectif 2 : nombres fractionnaires"
      ]
    },
    {
      "cell_type": "markdown",
      "metadata": {
        "id": "hbkY4MSXEuhf"
      },
      "source": [
        "## **3)** Programmer une fonction `poids_frac(txt)` qui\r\n",
        "* prend en argument un texte `txt` contenant des chiffres et au plus une virgule qui donne l'écriture d'un nombre en base 8 (octal) \r\n",
        "* renvoie un tableau donnant le \"poids\" de chaque chiffre en base 10 (décimal). Le \"poids\" de la virgule est 0 !\r\n",
        "\r\n",
        "\r\n",
        "Exemple : si `txt = '17,52'` alors `poids_frac(txt)` renvoie le tableau `[8, 1, 0, 0.125, 0.015625]`avec , en fin de liste : $ 8^{-1},8^{-2} $."
      ]
    },
    {
      "cell_type": "code",
      "metadata": {
        "id": "15hLt4GQOKwZ"
      },
      "source": [
        ""
      ],
      "execution_count": null,
      "outputs": []
    },
    {
      "cell_type": "markdown",
      "metadata": {
        "id": "McYjjtwGOLI4"
      },
      "source": [
        "## **4)** Programmer  une fonction `decimal_frac(txt)` qui : \r\n",
        "* prend en argument un texte `txt` contenant des chiffres et au plus une virgule qui donne l'écriture d'un nombre en base 8 (octal)\r\n",
        "* renvoie ce nombre au format flottant en base 10. \r\n",
        "* cette fonction pourra faire appel à `poids_frac(txt)`\r\n",
        "\r\n",
        "\r\n",
        "Exemple : si `txt = '17,52'` alors `decimal_frac(txt)` renvoie `15.65625` car:\r\n",
        "* $17,52=1 \\times 8 + 7 \\times1  + 5 \\times 8^{-1} + 2 \\times 8^{-2}$\r\n"
      ]
    },
    {
      "cell_type": "code",
      "metadata": {
        "id": "VenMd5rjOfnB"
      },
      "source": [
        ""
      ],
      "execution_count": null,
      "outputs": []
    }
  ]
}