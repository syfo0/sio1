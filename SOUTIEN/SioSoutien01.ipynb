{
  "nbformat": 4,
  "nbformat_minor": 0,
  "metadata": {
    "colab": {
      "name": "SioSoutien01.ipynb",
      "provenance": [],
      "collapsed_sections": [],
      "authorship_tag": "ABX9TyP6D1Tmj7KFsw93c1p3TTz4",
      "include_colab_link": true
    },
    "kernelspec": {
      "name": "python3",
      "display_name": "Python 3"
    }
  },
  "cells": [
    {
      "cell_type": "markdown",
      "metadata": {
        "id": "view-in-github",
        "colab_type": "text"
      },
      "source": [
        "<a href=\"https://colab.research.google.com/github/thfruchart/sio1/blob/master/SOUTIEN/SioSoutien01.ipynb\" target=\"_parent\"><img src=\"https://colab.research.google.com/assets/colab-badge.svg\" alt=\"Open In Colab\"/></a>"
      ]
    },
    {
      "cell_type": "markdown",
      "metadata": {
        "id": "ucOl_uPmAiP4",
        "colab_type": "text"
      },
      "source": [
        "# TP2. Exercice 2"
      ]
    },
    {
      "cell_type": "code",
      "metadata": {
        "id": "N4qNXmEQAA6m",
        "colab_type": "code",
        "colab": {
          "base_uri": "https://localhost:8080/",
          "height": 289
        },
        "outputId": "0442a094-a526-4bad-8311-6e8976e18a79"
      },
      "source": [
        "from random import *\n",
        "boucle = True\n",
        "while boucle :\n",
        "    d  = randint(1,6)\n",
        "    print (d)\n",
        "    if d == 6:\n",
        "        boucle = False\n",
        "print (\"fin du programme\")"
      ],
      "execution_count": 9,
      "outputs": [
        {
          "output_type": "stream",
          "text": [
            "4\n",
            "3\n",
            "4\n",
            "5\n",
            "2\n",
            "2\n",
            "2\n",
            "5\n",
            "2\n",
            "4\n",
            "4\n",
            "5\n",
            "5\n",
            "5\n",
            "6\n",
            "fin du programme\n"
          ],
          "name": "stdout"
        }
      ]
    },
    {
      "cell_type": "markdown",
      "metadata": {
        "id": "23noANwOBXzA",
        "colab_type": "text"
      },
      "source": [
        "[Visualiser l'exécution sur PythonTutor](http://www.pythontutor.com/visualize.html#code=from%20random%20import%20randint%0Aboucle%20%3D%20True%0Awhile%20boucle%20%3A%0A%20%20%20%20d%20%20%3D%20randint%281,6%29%0A%20%20%20%20print%20%28d%29%0A%20%20%20%20if%20d%20%3D%3D%206%3A%0A%20%20%20%20%20%20%20%20boucle%20%3D%20False%0Aprint%20%28%22fin%20du%20programme%20%22%29&cumulative=false&curInstr=0&heapPrimitives=nevernest&mode=display&origin=opt-frontend.js&py=3&rawInputLstJSON=%5B%5D&textReferences=false)"
      ]
    },
    {
      "cell_type": "markdown",
      "metadata": {
        "id": "x-CfsXwkCDV-",
        "colab_type": "text"
      },
      "source": [
        "# TP3. Exercice 1"
      ]
    },
    {
      "cell_type": "code",
      "metadata": {
        "id": "O7LlkkpyCGLX",
        "colab_type": "code",
        "colab": {}
      },
      "source": [
        "d = 0\n",
        "n = int(input('Entrer un entier n :'))\n",
        "while d<n :\n",
        "    d = d + 1\n",
        "    r = n % d\n",
        "    if r == 0:\n",
        "        print(d)"
      ],
      "execution_count": null,
      "outputs": []
    },
    {
      "cell_type": "markdown",
      "metadata": {
        "id": "y108pg1dC3mQ",
        "colab_type": "text"
      },
      "source": [
        "[Visualiser l'exécution sur PythonTutor](http://www.pythontutor.com/visualize.html#code=d%20%3D%200%0An%20%3D%20int%28input%28'Entrer%20un%20entier%20n%20%3A'%29%29%0Awhile%20d%3Cn%20%3A%0A%20%20%20%20d%20%3D%20d%20%2B%201%0A%20%20%20%20r%20%3D%20n%20%25%20d%0A%20%20%20%20if%20r%20%3D%3D%200%3A%0A%20%20%20%20%20%20%20%20print%28d%29&cumulative=false&curInstr=31&heapPrimitives=nevernest&mode=display&origin=opt-frontend.js&py=3&rawInputLstJSON=%5B%226%22%5D&textReferences=false)"
      ]
    },
    {
      "cell_type": "markdown",
      "metadata": {
        "id": "YucR89MlDXZV",
        "colab_type": "text"
      },
      "source": [
        "# S'exercer avec une boucle `while`"
      ]
    },
    {
      "cell_type": "markdown",
      "metadata": {
        "id": "XynLQyLXDcgB",
        "colab_type": "text"
      },
      "source": [
        "Avant d'exécuter chaque cellule de code, chercher (au brouillon, ou mentalement) ce qui sera produit à l'exécuter.\n",
        "\n",
        "Puis vérifier en exécutant la cellule."
      ]
    },
    {
      "cell_type": "code",
      "metadata": {
        "id": "FGpt0qIKDrzY",
        "colab_type": "code",
        "colab": {}
      },
      "source": [
        "a = 5\n",
        "while a > 2:\n",
        "    print(a)\n",
        "    a = a-1\n",
        "print('Terminé !')"
      ],
      "execution_count": null,
      "outputs": []
    },
    {
      "cell_type": "code",
      "metadata": {
        "id": "uWgoiECWD0WV",
        "colab_type": "code",
        "colab": {}
      },
      "source": [
        "b = 5\n",
        "while b < 10:\n",
        "    b = b+1\n",
        "    print(b)\n",
        "print('Terminé !')"
      ],
      "execution_count": null,
      "outputs": []
    },
    {
      "cell_type": "markdown",
      "metadata": {
        "id": "AAUCrsPCEafj",
        "colab_type": "text"
      },
      "source": [
        "Utilisation d'un accumulateur"
      ]
    },
    {
      "cell_type": "code",
      "metadata": {
        "id": "JNNTJ0MoEBIs",
        "colab_type": "code",
        "colab": {}
      },
      "source": [
        "s = 0\n",
        "i = 3\n",
        "while i < 7:\n",
        "    print(i)\n",
        "    s = s + i\n",
        "    i = i+1\n",
        "print(s)"
      ],
      "execution_count": null,
      "outputs": []
    },
    {
      "cell_type": "code",
      "metadata": {
        "id": "46LUrNY-EgxE",
        "colab_type": "code",
        "colab": {}
      },
      "source": [
        "s = 0\n",
        "i = 3\n",
        "while i < 7:\n",
        "    i = i+1\n",
        "    print(i)\n",
        "    s = s + i\n",
        "print(s)"
      ],
      "execution_count": null,
      "outputs": []
    }
  ]
}