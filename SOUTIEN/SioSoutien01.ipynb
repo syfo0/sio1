{
  "nbformat": 4,
  "nbformat_minor": 0,
  "metadata": {
    "colab": {
      "name": "SioSoutien01.ipynb",
      "provenance": [],
      "collapsed_sections": [],
      "authorship_tag": "ABX9TyPJ72vlUAOZEwwWksrulDIr",
      "include_colab_link": true
    },
    "kernelspec": {
      "name": "python3",
      "display_name": "Python 3"
    }
  },
  "cells": [
    {
      "cell_type": "markdown",
      "metadata": {
        "id": "view-in-github",
        "colab_type": "text"
      },
      "source": [
        "<a href=\"https://colab.research.google.com/github/thfruchart/sio1/blob/master/SOUTIEN/SioSoutien01.ipynb\" target=\"_parent\"><img src=\"https://colab.research.google.com/assets/colab-badge.svg\" alt=\"Open In Colab\"/></a>"
      ]
    },
    {
      "cell_type": "markdown",
      "metadata": {
        "id": "ucOl_uPmAiP4",
        "colab_type": "text"
      },
      "source": [
        "# TP2. Exercice 2"
      ]
    },
    {
      "cell_type": "code",
      "metadata": {
        "id": "N4qNXmEQAA6m",
        "colab_type": "code",
        "colab": {
          "base_uri": "https://localhost:8080/",
          "height": 0
        },
        "outputId": "15b2b853-b48e-48d5-f1be-8238ee586c26"
      },
      "source": [
        "from random import randint\n",
        "boucle = True\n",
        "cpt = 0\n",
        "while boucle :\n",
        "    d  = randint(1,6)\n",
        "    print (d)\n",
        "    cpt = cpt+1\n",
        "    if d == 6:\n",
        "        boucle = False\n",
        "print (\"nombre de lancés :\", cpt)"
      ],
      "execution_count": 3,
      "outputs": [
        {
          "output_type": "stream",
          "text": [
            "3\n",
            "2\n",
            "6\n",
            "nombre de lancés : 1\n"
          ],
          "name": "stdout"
        }
      ]
    },
    {
      "cell_type": "markdown",
      "metadata": {
        "id": "23noANwOBXzA",
        "colab_type": "text"
      },
      "source": [
        "[Visualiser l'exécution sur PythonTutor](http://www.pythontutor.com/visualize.html#code=from%20random%20import%20randint%0Aboucle%20%3D%20True%0Awhile%20boucle%20%3A%0A%20%20%20%20d%20%20%3D%20randint%281,6%29%0A%20%20%20%20print%20%28d%29%0A%20%20%20%20if%20d%20%3D%3D%206%3A%0A%20%20%20%20%20%20%20%20boucle%20%3D%20False%0Aprint%20%28%22fin%20du%20programme%20%22%29&cumulative=false&curInstr=0&heapPrimitives=nevernest&mode=display&origin=opt-frontend.js&py=3&rawInputLstJSON=%5B%5D&textReferences=false)"
      ]
    },
    {
      "cell_type": "markdown",
      "metadata": {
        "id": "x-CfsXwkCDV-",
        "colab_type": "text"
      },
      "source": [
        "# TP3. Exercice 1"
      ]
    },
    {
      "cell_type": "code",
      "metadata": {
        "id": "O7LlkkpyCGLX",
        "colab_type": "code",
        "colab": {
          "base_uri": "https://localhost:8080/",
          "height": 101
        },
        "outputId": "3ac5efcc-ad06-4c3d-f8e4-1df0c4dd6e61"
      },
      "source": [
        "d = 0\n",
        "n = int(input('Entrer un entier n :'))\n",
        "while d<n :\n",
        "    d = d + 1\n",
        "    r = n % d\n",
        "    q = n//d\n",
        "    if r == 0:\n",
        "        print(d, '*', q)"
      ],
      "execution_count": 9,
      "outputs": [
        {
          "output_type": "stream",
          "text": [
            "Entrer un entier n :21\n",
            "1 * 21\n",
            "3 * 7\n",
            "7 * 3\n",
            "21 * 1\n"
          ],
          "name": "stdout"
        }
      ]
    },
    {
      "cell_type": "markdown",
      "metadata": {
        "id": "y108pg1dC3mQ",
        "colab_type": "text"
      },
      "source": [
        "[Visualiser l'exécution sur PythonTutor](http://www.pythontutor.com/visualize.html#code=d%20%3D%200%0An%20%3D%20int%28input%28'Entrer%20un%20entier%20n%20%3A'%29%29%0Awhile%20d%3Cn%20%3A%0A%20%20%20%20d%20%3D%20d%20%2B%201%0A%20%20%20%20r%20%3D%20n%20%25%20d%0A%20%20%20%20if%20r%20%3D%3D%200%3A%0A%20%20%20%20%20%20%20%20print%28d%29&cumulative=false&curInstr=31&heapPrimitives=nevernest&mode=display&origin=opt-frontend.js&py=3&rawInputLstJSON=%5B%226%22%5D&textReferences=false)"
      ]
    },
    {
      "cell_type": "markdown",
      "metadata": {
        "id": "YucR89MlDXZV",
        "colab_type": "text"
      },
      "source": [
        "# S'exercer avec une boucle `while`"
      ]
    },
    {
      "cell_type": "markdown",
      "metadata": {
        "id": "XynLQyLXDcgB",
        "colab_type": "text"
      },
      "source": [
        "Avant d'exécuter chaque cellule de code, chercher (au brouillon, ou mentalement) ce qui sera produit à l'exécuter.\n",
        "\n",
        "Puis vérifier en exécutant la cellule."
      ]
    },
    {
      "cell_type": "code",
      "metadata": {
        "id": "FGpt0qIKDrzY",
        "colab_type": "code",
        "colab": {
          "base_uri": "https://localhost:8080/",
          "height": 84
        },
        "outputId": "19e8ec52-10a3-4da8-904d-062501efce43"
      },
      "source": [
        "a = 5\n",
        "while a > 2:\n",
        "    print(a)\n",
        "    a = a-1\n",
        "print('Terminé !')"
      ],
      "execution_count": 10,
      "outputs": [
        {
          "output_type": "stream",
          "text": [
            "5\n",
            "4\n",
            "3\n",
            "Terminé !\n"
          ],
          "name": "stdout"
        }
      ]
    },
    {
      "cell_type": "code",
      "metadata": {
        "id": "uWgoiECWD0WV",
        "colab_type": "code",
        "colab": {
          "base_uri": "https://localhost:8080/",
          "height": 118
        },
        "outputId": "7c732a93-d039-42d6-c0f2-c3cdfee5d9f5"
      },
      "source": [
        "b = 5\n",
        "while b < 10:\n",
        "    b = b+1\n",
        "    print(b)\n",
        "print('Terminé !')"
      ],
      "execution_count": 11,
      "outputs": [
        {
          "output_type": "stream",
          "text": [
            "6\n",
            "7\n",
            "8\n",
            "9\n",
            "10\n",
            "Terminé !\n"
          ],
          "name": "stdout"
        }
      ]
    },
    {
      "cell_type": "markdown",
      "metadata": {
        "id": "AAUCrsPCEafj",
        "colab_type": "text"
      },
      "source": [
        "Utilisation d'un accumulateur"
      ]
    },
    {
      "cell_type": "code",
      "metadata": {
        "id": "JNNTJ0MoEBIs",
        "colab_type": "code",
        "colab": {
          "base_uri": "https://localhost:8080/",
          "height": 101
        },
        "outputId": "26be22eb-1d0c-4892-9fbd-90ac9baa2d7f"
      },
      "source": [
        "s = 0\n",
        "i = 3\n",
        "while i < 7:\n",
        "    print(i)\n",
        "    s = s + i\n",
        "    i = i+1\n",
        "print(s)"
      ],
      "execution_count": 12,
      "outputs": [
        {
          "output_type": "stream",
          "text": [
            "3\n",
            "4\n",
            "5\n",
            "6\n",
            "18\n"
          ],
          "name": "stdout"
        }
      ]
    },
    {
      "cell_type": "code",
      "metadata": {
        "id": "46LUrNY-EgxE",
        "colab_type": "code",
        "colab": {
          "base_uri": "https://localhost:8080/",
          "height": 101
        },
        "outputId": "bca902ad-1ab3-431d-dd0f-05a22aa35ba1"
      },
      "source": [
        "s = 0\n",
        "i = 3\n",
        "while i < 7:\n",
        "    i = i+1\n",
        "    print(i)\n",
        "    s = s + i\n",
        "print(s)"
      ],
      "execution_count": 13,
      "outputs": [
        {
          "output_type": "stream",
          "text": [
            "4\n",
            "5\n",
            "6\n",
            "7\n",
            "22\n"
          ],
          "name": "stdout"
        }
      ]
    },
    {
      "cell_type": "code",
      "metadata": {
        "id": "mEKivDUeJ1ur",
        "colab_type": "code",
        "colab": {
          "base_uri": "https://localhost:8080/",
          "height": 1000
        },
        "outputId": "49333715-1470-4183-d696-5f9454384ca1"
      },
      "source": [
        "s = 0\n",
        "i = 0\n",
        "while i < 100:\n",
        "    i = i+1\n",
        "    print(i)\n",
        "    s = s + i\n",
        "print(s)"
      ],
      "execution_count": 14,
      "outputs": [
        {
          "output_type": "stream",
          "text": [
            "1\n",
            "2\n",
            "3\n",
            "4\n",
            "5\n",
            "6\n",
            "7\n",
            "8\n",
            "9\n",
            "10\n",
            "11\n",
            "12\n",
            "13\n",
            "14\n",
            "15\n",
            "16\n",
            "17\n",
            "18\n",
            "19\n",
            "20\n",
            "21\n",
            "22\n",
            "23\n",
            "24\n",
            "25\n",
            "26\n",
            "27\n",
            "28\n",
            "29\n",
            "30\n",
            "31\n",
            "32\n",
            "33\n",
            "34\n",
            "35\n",
            "36\n",
            "37\n",
            "38\n",
            "39\n",
            "40\n",
            "41\n",
            "42\n",
            "43\n",
            "44\n",
            "45\n",
            "46\n",
            "47\n",
            "48\n",
            "49\n",
            "50\n",
            "51\n",
            "52\n",
            "53\n",
            "54\n",
            "55\n",
            "56\n",
            "57\n",
            "58\n",
            "59\n",
            "60\n",
            "61\n",
            "62\n",
            "63\n",
            "64\n",
            "65\n",
            "66\n",
            "67\n",
            "68\n",
            "69\n",
            "70\n",
            "71\n",
            "72\n",
            "73\n",
            "74\n",
            "75\n",
            "76\n",
            "77\n",
            "78\n",
            "79\n",
            "80\n",
            "81\n",
            "82\n",
            "83\n",
            "84\n",
            "85\n",
            "86\n",
            "87\n",
            "88\n",
            "89\n",
            "90\n",
            "91\n",
            "92\n",
            "93\n",
            "94\n",
            "95\n",
            "96\n",
            "97\n",
            "98\n",
            "99\n",
            "100\n",
            "5050\n"
          ],
          "name": "stdout"
        }
      ]
    },
    {
      "cell_type": "code",
      "metadata": {
        "id": "DE9QgQ8nKP9B",
        "colab_type": "code",
        "colab": {
          "base_uri": "https://localhost:8080/",
          "height": 1000
        },
        "outputId": "d264cd95-f46f-43ef-cd86-bf52ec922594"
      },
      "source": [
        "s = 0\n",
        "i = 1\n",
        "while i < 101:\n",
        "    print(i)\n",
        "    s = s + i\n",
        "    i = i+1\n",
        "print(s)"
      ],
      "execution_count": 15,
      "outputs": [
        {
          "output_type": "stream",
          "text": [
            "1\n",
            "2\n",
            "3\n",
            "4\n",
            "5\n",
            "6\n",
            "7\n",
            "8\n",
            "9\n",
            "10\n",
            "11\n",
            "12\n",
            "13\n",
            "14\n",
            "15\n",
            "16\n",
            "17\n",
            "18\n",
            "19\n",
            "20\n",
            "21\n",
            "22\n",
            "23\n",
            "24\n",
            "25\n",
            "26\n",
            "27\n",
            "28\n",
            "29\n",
            "30\n",
            "31\n",
            "32\n",
            "33\n",
            "34\n",
            "35\n",
            "36\n",
            "37\n",
            "38\n",
            "39\n",
            "40\n",
            "41\n",
            "42\n",
            "43\n",
            "44\n",
            "45\n",
            "46\n",
            "47\n",
            "48\n",
            "49\n",
            "50\n",
            "51\n",
            "52\n",
            "53\n",
            "54\n",
            "55\n",
            "56\n",
            "57\n",
            "58\n",
            "59\n",
            "60\n",
            "61\n",
            "62\n",
            "63\n",
            "64\n",
            "65\n",
            "66\n",
            "67\n",
            "68\n",
            "69\n",
            "70\n",
            "71\n",
            "72\n",
            "73\n",
            "74\n",
            "75\n",
            "76\n",
            "77\n",
            "78\n",
            "79\n",
            "80\n",
            "81\n",
            "82\n",
            "83\n",
            "84\n",
            "85\n",
            "86\n",
            "87\n",
            "88\n",
            "89\n",
            "90\n",
            "91\n",
            "92\n",
            "93\n",
            "94\n",
            "95\n",
            "96\n",
            "97\n",
            "98\n",
            "99\n",
            "100\n",
            "5050\n"
          ],
          "name": "stdout"
        }
      ]
    }
  ]
}