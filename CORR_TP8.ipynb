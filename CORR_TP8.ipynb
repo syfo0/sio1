{
  "nbformat": 4,
  "nbformat_minor": 0,
  "metadata": {
    "colab": {
      "name": "SIO1_CORR_TP8.ipynb",
      "provenance": [],
      "collapsed_sections": [],
      "authorship_tag": "ABX9TyNCTfSvq9yo444AuB1WuQdn",
      "include_colab_link": true
    },
    "kernelspec": {
      "name": "python3",
      "display_name": "Python 3"
    }
  },
  "cells": [
    {
      "cell_type": "markdown",
      "metadata": {
        "id": "view-in-github",
        "colab_type": "text"
      },
      "source": [
        "<a href=\"https://colab.research.google.com/github/thfruchart/sio1/blob/master/CORR_TP8.ipynb\" target=\"_parent\"><img src=\"https://colab.research.google.com/assets/colab-badge.svg\" alt=\"Open In Colab\"/></a>"
      ]
    },
    {
      "cell_type": "markdown",
      "metadata": {
        "id": "lgpw5zIxBbYg"
      },
      "source": [
        "## Exercice 1\n",
        "Le programme proposé affiche tous les nombres premiers qui forment la **décomposition de N en produit de facteurs premiers**"
      ]
    },
    {
      "cell_type": "code",
      "metadata": {
        "colab": {
          "base_uri": "https://localhost:8080/"
        },
        "id": "QA6TBy71BMGt",
        "outputId": "0cde30b9-60f6-41d9-a180-aa14ebf1ded0"
      },
      "source": [
        "N = int(input('Entrer un entier N : '))\n",
        "p=2                \n",
        "while (N>1):\n",
        "    while (N%p==0):\n",
        "        N=N//p     \n",
        "        print(p)\n",
        "    p=p+1"
      ],
      "execution_count": 9,
      "outputs": [
        {
          "output_type": "stream",
          "text": [
            "Entrer un entier N : 200\n",
            "2\n",
            "2\n",
            "2\n",
            "5\n",
            "5\n"
          ],
          "name": "stdout"
        }
      ]
    },
    {
      "cell_type": "markdown",
      "metadata": {
        "id": "291AEzlEBpwE"
      },
      "source": [
        "## Exercice 2"
      ]
    },
    {
      "cell_type": "markdown",
      "metadata": {
        "id": "50hL0HARBrL2"
      },
      "source": [
        "On améliore l'affichage en calculant l'exposant pour chaque entier premier:"
      ]
    },
    {
      "cell_type": "code",
      "metadata": {
        "colab": {
          "base_uri": "https://localhost:8080/"
        },
        "id": "252WZGmqCBt6",
        "outputId": "f4023271-00ff-4405-b532-b44259b80b8f"
      },
      "source": [
        "N = int(input('Entrer un entier N'))\n",
        "\n",
        "p=2                \n",
        "while (N>1):\n",
        "    expo = 0\n",
        "    while (N%p==0):\n",
        "        N=N//p    \n",
        "        expo += 1 \n",
        "    if expo > 1:\n",
        "        print(p, \"puissance\", expo)\n",
        "    elif expo ==1:\n",
        "        print(p)\n",
        "    p=p+1"
      ],
      "execution_count": 10,
      "outputs": [
        {
          "output_type": "stream",
          "text": [
            "Entrer un entier N200\n",
            "2 puissance 3\n",
            "5 puissance 2\n"
          ],
          "name": "stdout"
        }
      ]
    },
    {
      "cell_type": "markdown",
      "metadata": {
        "id": "7dcTvgQ2Cgr5"
      },
      "source": [
        "## Exercice 3\n",
        "\n",
        "On regroupe tout l'affichage sur une seule ligne, avec une variable de type `str`"
      ]
    },
    {
      "cell_type": "code",
      "metadata": {
        "colab": {
          "base_uri": "https://localhost:8080/"
        },
        "id": "AcDcKxNvCrsL",
        "outputId": "ad7bb44b-bab4-4a76-c0b4-30fda202ab87"
      },
      "source": [
        "N = int(input(\"Entrer un entier N : \"))\n",
        "p=2\n",
        "res= str(N) + \" = \"\n",
        "\n",
        "while (N>1):\n",
        "    compt=0\n",
        "    while (N%p==0):\n",
        "        compt=compt+1\n",
        "        N=N//p\n",
        "    if compt>0:\n",
        "        if compt==1:\n",
        "            if N==1:\n",
        "                res=res+str(p)\n",
        "            else:        \n",
        "                res=res+str(p)+\" * \"\n",
        "        else:\n",
        "            if N==1:\n",
        "                res=res+str(p)+\" ^ \"+str(compt)\n",
        "            else:        \n",
        "                res=res+str(p)+\" ^ \"+str(compt)+\" * \"\n",
        "        \n",
        "    p=p+1\n",
        "    \n",
        "print(res)"
      ],
      "execution_count": 12,
      "outputs": [
        {
          "output_type": "stream",
          "text": [
            "Entrer un entier N : 2020\n",
            "2020 = 2 ^ 2 * 5 * 101\n"
          ],
          "name": "stdout"
        }
      ]
    },
    {
      "cell_type": "markdown",
      "metadata": {
        "id": "WHeMgH7kDQmU"
      },
      "source": [
        "## Exercice 4\n",
        "\n",
        "Définir une fonction"
      ]
    },
    {
      "cell_type": "code",
      "metadata": {
        "colab": {
          "base_uri": "https://localhost:8080/"
        },
        "id": "0SLLKYQsDULJ",
        "outputId": "7dfac9ae-d5e2-478f-9d50-4c9b0834c156"
      },
      "source": [
        "def decompose(N):\n",
        "    p=2\n",
        "    res= str(N) + \" = \"\n",
        "\n",
        "    while (N>1):\n",
        "        compt=0\n",
        "        while (N%p==0):\n",
        "            compt=compt+1\n",
        "            N=N//p\n",
        "        if compt>0:\n",
        "            if compt==1:\n",
        "                if N==1:\n",
        "                    res=res+str(p)\n",
        "                else:        \n",
        "                    res=res+str(p)+\" * \"\n",
        "            else:\n",
        "                if N==1:\n",
        "                    res=res+str(p)+\" ^ \"+str(compt)\n",
        "                else:        \n",
        "                    res=res+str(p)+\" ^ \"+str(compt)+\" * \"\n",
        "            \n",
        "        p=p+1\n",
        "        \n",
        "    return res\n",
        "\n",
        "N = int(input(\"Entrer un entier N : \"))\n",
        "print(decompose(N))"
      ],
      "execution_count": 13,
      "outputs": [
        {
          "output_type": "stream",
          "text": [
            "Entrer un entier N : 2021\n",
            "2021 = 43 * 47\n"
          ],
          "name": "stdout"
        }
      ]
    },
    {
      "cell_type": "code",
      "metadata": {
        "colab": {
          "base_uri": "https://localhost:8080/",
          "height": 35
        },
        "id": "x44R7yAJIczU",
        "outputId": "07e6709c-c177-4c1b-977c-d3e1caf1c85d"
      },
      "source": [
        "decompose(123456)"
      ],
      "execution_count": 14,
      "outputs": [
        {
          "output_type": "execute_result",
          "data": {
            "application/vnd.google.colaboratory.intrinsic+json": {
              "type": "string"
            },
            "text/plain": [
              "'123456 = 2 ^ 6 * 3 * 643'"
            ]
          },
          "metadata": {
            "tags": []
          },
          "execution_count": 14
        }
      ]
    },
    {
      "cell_type": "code",
      "metadata": {
        "colab": {
          "base_uri": "https://localhost:8080/",
          "height": 35
        },
        "id": "L8xN9n1QIif0",
        "outputId": "1cf03f0c-c13b-419c-eb1f-a74568f5c33a"
      },
      "source": [
        "decompose(2022)"
      ],
      "execution_count": 15,
      "outputs": [
        {
          "output_type": "execute_result",
          "data": {
            "application/vnd.google.colaboratory.intrinsic+json": {
              "type": "string"
            },
            "text/plain": [
              "'2022 = 2 * 3 * 337'"
            ]
          },
          "metadata": {
            "tags": []
          },
          "execution_count": 15
        }
      ]
    }
  ]
}