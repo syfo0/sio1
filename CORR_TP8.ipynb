{
  "nbformat": 4,
  "nbformat_minor": 0,
  "metadata": {
    "colab": {
      "name": "SIO1_CORR_TP8.ipynb",
      "provenance": [],
      "collapsed_sections": [],
      "authorship_tag": "ABX9TyMg5e+QPOSBQDk8ZM2hHZEa",
      "include_colab_link": true
    },
    "kernelspec": {
      "name": "python3",
      "display_name": "Python 3"
    }
  },
  "cells": [
    {
      "cell_type": "markdown",
      "metadata": {
        "id": "view-in-github",
        "colab_type": "text"
      },
      "source": [
        "<a href=\"https://colab.research.google.com/github/thfruchart/sio1/blob/master/CORR_TP8.ipynb\" target=\"_parent\"><img src=\"https://colab.research.google.com/assets/colab-badge.svg\" alt=\"Open In Colab\"/></a>"
      ]
    },
    {
      "cell_type": "markdown",
      "metadata": {
        "id": "lgpw5zIxBbYg"
      },
      "source": [
        "## Exercice 1\n",
        "Le programme proposé affiche tous les nombres premiers qui forment la **décomposition de N en produit de facteurs premiers**"
      ]
    },
    {
      "cell_type": "code",
      "metadata": {
        "colab": {
          "base_uri": "https://localhost:8080/"
        },
        "id": "QA6TBy71BMGt",
        "outputId": "110fb04a-bd45-451f-e92e-3da50de54d8e"
      },
      "source": [
        "N = int(input('Entrer un entier N'))\n",
        "\n",
        "p=2                \n",
        "while (N>1):\n",
        "    while (N%p==0):\n",
        "        N=N//p     \n",
        "        print(p)\n",
        "    p=p+1"
      ],
      "execution_count": null,
      "outputs": [
        {
          "output_type": "stream",
          "text": [
            "Entrer un entier N2020\n",
            "2\n",
            "2\n",
            "5\n",
            "101\n"
          ],
          "name": "stdout"
        }
      ]
    },
    {
      "cell_type": "markdown",
      "metadata": {
        "id": "291AEzlEBpwE"
      },
      "source": [
        "## Exercice 2"
      ]
    },
    {
      "cell_type": "markdown",
      "metadata": {
        "id": "50hL0HARBrL2"
      },
      "source": [
        "On améliore l'affichage en calculant l'exposant pour chaque entier premier:"
      ]
    },
    {
      "cell_type": "code",
      "metadata": {
        "colab": {
          "base_uri": "https://localhost:8080/"
        },
        "id": "252WZGmqCBt6",
        "outputId": "875e9c43-5920-47c1-86ea-8b0a5a62f592"
      },
      "source": [
        "N = int(input('Entrer un entier N'))\n",
        "\n",
        "p=2                \n",
        "while (N>1):\n",
        "    expo = 0\n",
        "    while (N%p==0):\n",
        "        N=N//p    \n",
        "        expo += 1 \n",
        "    if expo >1:\n",
        "        print(p, \"puissance\", expo)\n",
        "    elif expo ==1:\n",
        "        print(p)\n",
        "    p=p+1"
      ],
      "execution_count": null,
      "outputs": [
        {
          "output_type": "stream",
          "text": [
            "Entrer un entier N2020\n",
            "2 puissance 2\n",
            "5\n",
            "101\n"
          ],
          "name": "stdout"
        }
      ]
    },
    {
      "cell_type": "markdown",
      "metadata": {
        "id": "7dcTvgQ2Cgr5"
      },
      "source": [
        "## Exercice 3\n",
        "\n",
        "On regroupe tout l'affichage sur une seule ligne, avec une variable de type `str`"
      ]
    },
    {
      "cell_type": "code",
      "metadata": {
        "colab": {
          "base_uri": "https://localhost:8080/"
        },
        "id": "AcDcKxNvCrsL",
        "outputId": "99fe1195-f5e4-4726-af86-988b76068264"
      },
      "source": [
        "N = int(input(\"Entrer un entier N : \"))\n",
        "p=2\n",
        "res= str(N) + \" = \"\n",
        "\n",
        "while (N>1):\n",
        "    compt=0\n",
        "    while (N%p==0):\n",
        "        compt=compt+1\n",
        "        N=N//p\n",
        "    if compt>0:\n",
        "        if compt==1:\n",
        "            if N==1:\n",
        "                res=res+str(p)\n",
        "            else:        \n",
        "                res=res+str(p)+\" * \"\n",
        "        else:\n",
        "            if N==1:\n",
        "                res=res+str(p)+\" ^ \"+str(compt)\n",
        "            else:        \n",
        "                res=res+str(p)+\" ^ \"+str(compt)+\" * \"\n",
        "        \n",
        "    p=p+1\n",
        "    \n",
        "print(res)"
      ],
      "execution_count": null,
      "outputs": [
        {
          "output_type": "stream",
          "text": [
            "Entrer un entier N : 2020\n",
            "2020 = 2 ^ 2 * 5 * 101\n"
          ],
          "name": "stdout"
        }
      ]
    },
    {
      "cell_type": "markdown",
      "metadata": {
        "id": "WHeMgH7kDQmU"
      },
      "source": [
        "## Exercice 4\n",
        "\n",
        "Définir une fonction"
      ]
    },
    {
      "cell_type": "code",
      "metadata": {
        "colab": {
          "base_uri": "https://localhost:8080/"
        },
        "id": "0SLLKYQsDULJ",
        "outputId": "ab55f3df-6d8a-490a-c64a-f4be60042ff3"
      },
      "source": [
        "def decompose(N):\n",
        "    p=2\n",
        "    res= str(N) + \" = \"\n",
        "\n",
        "    while (N>1):\n",
        "        compt=0\n",
        "        while (N%p==0):\n",
        "            compt=compt+1\n",
        "            N=N//p\n",
        "        if compt>0:\n",
        "            if compt==1:\n",
        "                if N==1:\n",
        "                    res=res+str(p)\n",
        "                else:        \n",
        "                    res=res+str(p)+\" * \"\n",
        "            else:\n",
        "                if N==1:\n",
        "                    res=res+str(p)+\" ^ \"+str(compt)\n",
        "                else:        \n",
        "                    res=res+str(p)+\" ^ \"+str(compt)+\" * \"\n",
        "            \n",
        "        p=p+1\n",
        "        \n",
        "    return res\n",
        "\n",
        "N = int(input(\"Entrer un entier N : \"))\n",
        "print(decompose(N))"
      ],
      "execution_count": 7,
      "outputs": [
        {
          "output_type": "stream",
          "text": [
            "Entrer un entier N : 2021\n",
            "2021 = 43 * 47\n"
          ],
          "name": "stdout"
        }
      ]
    }
  ]
}