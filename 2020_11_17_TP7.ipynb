{
  "nbformat": 4,
  "nbformat_minor": 0,
  "metadata": {
    "colab": {
      "name": "2020-11-17-TP7.ipynb",
      "provenance": [],
      "collapsed_sections": [],
      "authorship_tag": "ABX9TyMYQfYTmdbS02P0h+JlnULy",
      "include_colab_link": true
    },
    "kernelspec": {
      "name": "python3",
      "display_name": "Python 3"
    }
  },
  "cells": [
    {
      "cell_type": "markdown",
      "metadata": {
        "id": "view-in-github",
        "colab_type": "text"
      },
      "source": [
        "<a href=\"https://colab.research.google.com/github/thfruchart/sio1/blob/master/2020_11_17_TP7.ipynb\" target=\"_parent\"><img src=\"https://colab.research.google.com/assets/colab-badge.svg\" alt=\"Open In Colab\"/></a>"
      ]
    },
    {
      "cell_type": "markdown",
      "metadata": {
        "id": "t4C1GIyq5_io"
      },
      "source": [
        "## Correction du TP7 : nombres premiers"
      ]
    },
    {
      "cell_type": "code",
      "metadata": {
        "id": "aTsyH5jG3IDZ"
      },
      "source": [
        "n = int(input('Entrer un entier :'))\n",
        "resu = True\n",
        "d = 2\n",
        "while (d<n):\n",
        "    r = n%d\n",
        "    if r==0:\n",
        "        resu = False\n",
        "        print(n, 'est multiple de', d)\n",
        "    d = d+1\n",
        "if resu:\n",
        "    print(n, 'est premier')\n",
        "else:\n",
        "    print(n, 'est composé')"
      ],
      "execution_count": null,
      "outputs": []
    },
    {
      "cell_type": "markdown",
      "metadata": {
        "id": "xzXzUZxD3cFs"
      },
      "source": [
        "Visualiser l'exécution sur [PythonTutor](http://www.pythontutor.com/visualize.html#code=n%20%3D%20int%28input%28'Entrer%20un%20entier%20%3A'%29%29%0Aresu%20%3D%20True%0Ad%20%3D%202%0Awhile%20%28d%3Cn%29%3A%0A%20%20%20%20r%20%3D%20n%25d%0A%20%20%20%20if%20r%3D%3D0%3A%0A%20%20%20%20%20%20%20%20resu%20%3D%20False%0A%20%20%20%20%20%20%20%20print%28n,%20'est%20multiple%20de',%20d%29%0A%20%20%20%20d%20%3D%20d%2B1%0Aif%20resu%3A%0A%20%20%20%20print%28n,%20'est%20premier'%29%0Aelse%3A%0A%20%20%20%20print%28n,%20'est%20compos%C3%A9'%29&cumulative=false&curInstr=0&heapPrimitives=nevernest&mode=display&origin=opt-frontend.js&py=3&rawInputLstJSON=%5B%5D&textReferences=false)"
      ]
    },
    {
      "cell_type": "markdown",
      "metadata": {
        "id": "0c-aE45N3wG6"
      },
      "source": [
        "|Variables|||||||\n",
        "|:--|:--|:--|:--|:--|:--|:--|\n",
        "|n   | 5    ||||||\n",
        "|resu|True  ||||||\n",
        "|d   |  2   |3    |4    |5|||\n",
        "|r   |  1   |2    |1    ||||\n",
        "| `d<n`|True| True|True |False|||\n",
        "| Affichage||     |     |     |5 est premier||\n",
        "\n",
        "|Variables|||||||  ||||\n",
        "|:--|:--|:--|:--|:--|:--|:--| ||||\n",
        "|n   | 9    ||||||  ||||\n",
        "|resu|True  |||||| ||||\n",
        "|d   |  2   |3    |4    |5|6|7|8 |9|||\n",
        "|r   |  1   | **0**   |1|4|3|2|1 ||||\n",
        "| `d<n`|True| True|True |True| True|True |True|False|||\n",
        "| Affichage|| `9 est multiple de 3` |     |     ||| ||`9 est composé`||"
      ]
    },
    {
      "cell_type": "markdown",
      "metadata": {
        "id": "JpptpIdO6GIw"
      },
      "source": [
        "### Pour améliorer l'efficacité du programme on peut essayer d'arrêter la boucle dès que : \n",
        "* la variable `resu` prend la valeur `False`\n",
        "\n",
        "ou que\n",
        "* la variable `d` devient supérieure ou égale à la racine carrée de `n`"
      ]
    },
    {
      "cell_type": "markdown",
      "metadata": {
        "id": "MF9_QBed6vHl"
      },
      "source": [
        "#### Arrêt si d >= racine(n)"
      ]
    },
    {
      "cell_type": "markdown",
      "metadata": {
        "id": "PWrI6nIk600-"
      },
      "source": [
        "    while (d<n):\n",
        "\n",
        "remplacé par \n",
        "\n",
        "    while (d**2 <= n):"
      ]
    },
    {
      "cell_type": "markdown",
      "metadata": {
        "id": "9mG_aD1G6n_f"
      },
      "source": [
        "#### Arrêt si resu devient False"
      ]
    },
    {
      "cell_type": "markdown",
      "metadata": {
        "id": "DZCpjVxu6_dl"
      },
      "source": [
        "    while (d**2 <= n):\n",
        "\n",
        "remplacé par \n",
        "\n",
        "    while (d**2 <= n) and resu == True:\n",
        "\n",
        "ou plus simplement \n",
        "\n",
        "    while (d**2 <= n) and resu:"
      ]
    },
    {
      "cell_type": "markdown",
      "metadata": {
        "id": "4Lvm9X9T6sAt"
      },
      "source": [
        "# Exercice 2"
      ]
    },
    {
      "cell_type": "code",
      "metadata": {
        "id": "qNMld1Cl2qM4"
      },
      "source": [
        "def premier(n):\n",
        "    resu = True\n",
        "    d = 2\n",
        "    while (d<n) :\n",
        "        r = n%d\n",
        "        if r==0 :\n",
        "            resu = False\n",
        "            print (n, \"est multiple de\", d)\n",
        "        d = d+1\n",
        "    return resu \n",
        "\n",
        "\n",
        "N = int(input('Entrer N : '))\n",
        "test = premier(N)\n",
        "if test :\n",
        "    print (N, \"est premier\")\n",
        "else :\n",
        "    print (N, \"est composé\")"
      ],
      "execution_count": null,
      "outputs": []
    },
    {
      "cell_type": "markdown",
      "metadata": {
        "id": "D1k3ikq77iQa"
      },
      "source": [
        "# Exercice 3"
      ]
    },
    {
      "cell_type": "code",
      "metadata": {
        "id": "GXiYiPFE7kUo"
      },
      "source": [
        "def premier(n):\n",
        "    resu = True\n",
        "    d = 2\n",
        "    while (d<n) :\n",
        "        r = n%d\n",
        "        if r==0 :\n",
        "            resu = False\n",
        "        d = d+1\n",
        "    return resu\n",
        "\n",
        "N = int(input(\"Entrer un nombre entier N : \"))\n",
        "for i in range(2, N+1) : # i va de 2 inclus à N inclus ~ N+1 exclu\n",
        "    if ... : # si i est un nombre premier\n",
        "        print(i) # i est affiché à l'écran\n"
      ],
      "execution_count": null,
      "outputs": []
    },
    {
      "cell_type": "markdown",
      "metadata": {
        "id": "U0h-hpcS8Qx8"
      },
      "source": [
        "# Exercice 4"
      ]
    },
    {
      "cell_type": "code",
      "metadata": {
        "id": "29dYmFxq8TUU"
      },
      "source": [
        "def premier(n):\n",
        "    resu = True\n",
        "    d = 2\n",
        "    while (d<n) :\n",
        "        r = n%d\n",
        "        if r==0 :\n",
        "            resu = False\n",
        "        d = d+1\n",
        "    return resu\n",
        "\n",
        "\n",
        "N = int(input(\"Entrer un nombre entier N : \"))\n",
        "i = 2\n",
        "while i < N : \n",
        "    if premier(i): # si i est un nombre premier\n",
        "        print(i) # i est affiché à l'écran\n",
        "    i = i+1"
      ],
      "execution_count": null,
      "outputs": []
    },
    {
      "cell_type": "markdown",
      "metadata": {
        "id": "12-f7s948-jO"
      },
      "source": [
        "## Comparer la fonction premier \"naïve\" et la fonction premier améliorée."
      ]
    },
    {
      "cell_type": "markdown",
      "metadata": {
        "id": "H2ztGuBe9Ew0"
      },
      "source": [
        "#### fonction \"naïve\""
      ]
    },
    {
      "cell_type": "code",
      "metadata": {
        "id": "xM2TAvBZ9HZB"
      },
      "source": [
        "def premier(n):\n",
        "    resu = True\n",
        "    d = 2\n",
        "    while (d<n) :\n",
        "        r = n%d\n",
        "        if r==0 :\n",
        "            resu = False\n",
        "        d = d+1\n",
        "    return resu\n",
        "\n",
        "\n",
        "N =500\n",
        "i = 2\n",
        "cpt = 0\n",
        "while cpt < N : \n",
        "    if premier(i): # si i est un nombre premier\n",
        "        print(i) # i est affiché à l'écran\n",
        "        cpt += 1\n",
        "    i = i+1"
      ],
      "execution_count": null,
      "outputs": []
    },
    {
      "cell_type": "markdown",
      "metadata": {
        "id": "3Osx7Qe69XA2"
      },
      "source": [
        "#### fonction améliorée"
      ]
    },
    {
      "cell_type": "code",
      "metadata": {
        "id": "fPjxh33A9UCr"
      },
      "source": [
        "def premier(n):\n",
        "    resu = True\n",
        "    d = 2\n",
        "    while (d**2 <= n) and resu:\n",
        "        r = n%d\n",
        "        if r==0 :\n",
        "            resu = False\n",
        "        d = d+1\n",
        "    return resu\n",
        "\n",
        "\n",
        "N =500\n",
        "i = 2\n",
        "cpt = 0\n",
        "while cpt < N : \n",
        "    if premier(i): # si i est un nombre premier\n",
        "        print(i) # i est affiché à l'écran\n",
        "        cpt += 1\n",
        "    i = i+1"
      ],
      "execution_count": null,
      "outputs": []
    }
  ]
}