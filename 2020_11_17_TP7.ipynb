{
  "nbformat": 4,
  "nbformat_minor": 0,
  "metadata": {
    "colab": {
      "name": "2020-11-17-TP7.ipynb",
      "provenance": [],
      "collapsed_sections": [],
      "authorship_tag": "ABX9TyPCvljo4EfzEwXt3VqreWyu",
      "include_colab_link": true
    },
    "kernelspec": {
      "name": "python3",
      "display_name": "Python 3"
    }
  },
  "cells": [
    {
      "cell_type": "markdown",
      "metadata": {
        "id": "view-in-github",
        "colab_type": "text"
      },
      "source": [
        "<a href=\"https://colab.research.google.com/github/thfruchart/sio1/blob/master/2020_11_17_TP7.ipynb\" target=\"_parent\"><img src=\"https://colab.research.google.com/assets/colab-badge.svg\" alt=\"Open In Colab\"/></a>"
      ]
    },
    {
      "cell_type": "markdown",
      "metadata": {
        "id": "t4C1GIyq5_io"
      },
      "source": [
        "## Correction du TP7 : nombres premiers"
      ]
    },
    {
      "cell_type": "code",
      "metadata": {
        "colab": {
          "base_uri": "https://localhost:8080/"
        },
        "id": "aTsyH5jG3IDZ",
        "outputId": "143bce3d-d523-42ce-b9da-f133410873c4"
      },
      "source": [
        "n = int(input('Entrer un entier :'))\n",
        "resu = True\n",
        "d = 2\n",
        "while (d<n):\n",
        "    r = n%d\n",
        "    if r==0:\n",
        "        resu = False\n",
        "        print(n, 'est multiple de', d)\n",
        "    d = d+1\n",
        "if resu:\n",
        "    print(n, 'est premier')\n",
        "else:\n",
        "    print(n, 'est composé')"
      ],
      "execution_count": 12,
      "outputs": [
        {
          "output_type": "stream",
          "text": [
            "Entrer un entier :9\n",
            "9 est multiple de 3\n",
            "9 est composé\n"
          ],
          "name": "stdout"
        }
      ]
    },
    {
      "cell_type": "markdown",
      "metadata": {
        "id": "xzXzUZxD3cFs"
      },
      "source": [
        "Visualiser l'exécution sur [PythonTutor](http://www.pythontutor.com/visualize.html#code=n%20%3D%20int%28input%28'Entrer%20un%20entier%20%3A'%29%29%0Aresu%20%3D%20True%0Ad%20%3D%202%0Awhile%20%28d%3Cn%29%3A%0A%20%20%20%20r%20%3D%20n%25d%0A%20%20%20%20if%20r%3D%3D0%3A%0A%20%20%20%20%20%20%20%20resu%20%3D%20False%0A%20%20%20%20%20%20%20%20print%28n,%20'est%20multiple%20de',%20d%29%0A%20%20%20%20d%20%3D%20d%2B1%0Aif%20resu%3A%0A%20%20%20%20print%28n,%20'est%20premier'%29%0Aelse%3A%0A%20%20%20%20print%28n,%20'est%20compos%C3%A9'%29&cumulative=false&curInstr=0&heapPrimitives=nevernest&mode=display&origin=opt-frontend.js&py=3&rawInputLstJSON=%5B%5D&textReferences=false)"
      ]
    },
    {
      "cell_type": "markdown",
      "metadata": {
        "id": "0c-aE45N3wG6"
      },
      "source": [
        "|Variables|||||||\n",
        "|:--|:--|:--|:--|:--|:--|:--|\n",
        "|n   | 5    ||||||\n",
        "|resu|True  ||||||\n",
        "|d   |  2   |3    |4    |5|||\n",
        "|r   |  1   |2    |1    ||||\n",
        "| `d<n`|True| True|True |False|||\n",
        "| Affichage||     |     |     |5 est premier||\n",
        "\n",
        "|Variables|||||||  ||||\n",
        "|:--|:--|:--|:--|:--|:--|:--| ||||\n",
        "|n   | 9    ||||||  ||||\n",
        "|resu|True  |||||| ||||\n",
        "|d   |  2   |3    |4    |5|6|7|8 |9|||\n",
        "|r   |  1   | **0**   |1|4|3|2|1 ||||\n",
        "| `d<n`|False| False|False |False| False|False |False|False|||\n",
        "| Affichage|| `9 est multiple de 3` |     |     ||| ||`9 est composé`||"
      ]
    },
    {
      "cell_type": "markdown",
      "metadata": {
        "id": "JpptpIdO6GIw"
      },
      "source": [
        "### Pour améliorer l'efficacité du programme on peut essayer d'arrêter la boucle dès que : \n",
        "* la variable `resu` prend la valeur `False`\n",
        "\n",
        "ou que\n",
        "* la variable `d` devient supérieure ou égale à la racine carrée de `n`"
      ]
    },
    {
      "cell_type": "markdown",
      "metadata": {
        "id": "MF9_QBed6vHl"
      },
      "source": [
        "#### Arrêt si d > racine(n)"
      ]
    },
    {
      "cell_type": "markdown",
      "metadata": {
        "id": "PWrI6nIk600-"
      },
      "source": [
        "    while (d<n):\n",
        "\n",
        "remplacé par \n",
        "\n",
        "    while (d**2 <= n):"
      ]
    },
    {
      "cell_type": "markdown",
      "metadata": {
        "id": "9mG_aD1G6n_f"
      },
      "source": [
        "#### Arrêt si resu devient False"
      ]
    },
    {
      "cell_type": "markdown",
      "metadata": {
        "id": "DZCpjVxu6_dl"
      },
      "source": [
        "    while (d**2 <= n):\n",
        "\n",
        "remplacé par \n",
        "\n",
        "    while (d**2 <= n) and resu == True:\n",
        "\n",
        "ou plus simplement \n",
        "\n",
        "    while (d**2 <= n) and resu:"
      ]
    },
    {
      "cell_type": "markdown",
      "metadata": {
        "id": "4Lvm9X9T6sAt"
      },
      "source": [
        "# Exercice 2"
      ]
    },
    {
      "cell_type": "code",
      "metadata": {
        "colab": {
          "base_uri": "https://localhost:8080/"
        },
        "id": "qNMld1Cl2qM4",
        "outputId": "30f49cd1-073d-4941-e3e5-5ec6e1d9d86e"
      },
      "source": [
        "def premier(n):\n",
        "    resu = True\n",
        "    d = 2\n",
        "    while (d<n) :\n",
        "        r = n%d\n",
        "        if r==0 :\n",
        "            resu = False\n",
        "            print (n, \"est multiple de\", d)\n",
        "        d = d+1\n",
        "    return resu \n",
        "\n",
        "\n",
        "N = int(input('Entrer N : '))\n",
        "test = premier(N)\n",
        "if test :\n",
        "    print (N, \"est premier\")\n",
        "else :\n",
        "    print (N, \"est composé\")"
      ],
      "execution_count": 13,
      "outputs": [
        {
          "output_type": "stream",
          "text": [
            "Entrer N : 5\n",
            "5 est premier\n"
          ],
          "name": "stdout"
        }
      ]
    },
    {
      "cell_type": "code",
      "metadata": {
        "colab": {
          "base_uri": "https://localhost:8080/"
        },
        "id": "h8jLLgLAA0gY",
        "outputId": "5fe929a9-8d3c-4b3d-a522-141869f69c10"
      },
      "source": [
        "premier(1234567)"
      ],
      "execution_count": 14,
      "outputs": [
        {
          "output_type": "stream",
          "text": [
            "1234567 est multiple de 127\n",
            "1234567 est multiple de 9721\n"
          ],
          "name": "stdout"
        },
        {
          "output_type": "execute_result",
          "data": {
            "text/plain": [
              "False"
            ]
          },
          "metadata": {
            "tags": []
          },
          "execution_count": 14
        }
      ]
    },
    {
      "cell_type": "markdown",
      "metadata": {
        "id": "D1k3ikq77iQa"
      },
      "source": [
        "# Exercice 3"
      ]
    },
    {
      "cell_type": "code",
      "metadata": {
        "colab": {
          "base_uri": "https://localhost:8080/"
        },
        "id": "GXiYiPFE7kUo",
        "outputId": "0a6ecbea-a9b2-4f75-a871-8254f69af74b"
      },
      "source": [
        "def premier(n):\n",
        "    resu = True\n",
        "    d = 2\n",
        "    while (d<n) :\n",
        "        r = n%d\n",
        "        if r==0 :\n",
        "            resu = False\n",
        "        d = d+1\n",
        "    return resu\n",
        "\n",
        "N = int(input(\"Entrer un nombre entier N : \"))\n",
        "for i in range(2, N+1) : # i va de 2 inclus à N inclus ~ N+1 exclu\n",
        "    if premier(i) : # si i est un nombre premier\n",
        "        print(i) # i est affiché à l'écran\n"
      ],
      "execution_count": 18,
      "outputs": [
        {
          "output_type": "stream",
          "text": [
            "Entrer un nombre entier N : 100\n",
            "2\n",
            "3\n",
            "5\n",
            "7\n",
            "11\n",
            "13\n",
            "17\n",
            "19\n",
            "23\n",
            "29\n",
            "31\n",
            "37\n",
            "41\n",
            "43\n",
            "47\n",
            "53\n",
            "59\n",
            "61\n",
            "67\n",
            "71\n",
            "73\n",
            "79\n",
            "83\n",
            "89\n",
            "97\n"
          ],
          "name": "stdout"
        }
      ]
    },
    {
      "cell_type": "markdown",
      "metadata": {
        "id": "U0h-hpcS8Qx8"
      },
      "source": [
        "# Exercice 4"
      ]
    },
    {
      "cell_type": "code",
      "metadata": {
        "id": "29dYmFxq8TUU"
      },
      "source": [
        "def premier(n):\n",
        "    resu = True\n",
        "    d = 2\n",
        "    while (d<n) :\n",
        "        r = n%d\n",
        "        if r==0 :\n",
        "            resu = False\n",
        "        d = d+1\n",
        "    return resu\n",
        "\n",
        "\n",
        "N = int(input(\"Entrer un nombre entier N : \"))\n",
        "i = 2\n",
        "cpt = 0\n",
        "while cpt < N : \n",
        "    if premier(i): # si i est un nombre premier\n",
        "        print(i) # i est affiché à l'écran\n",
        "        cpt += 1 # cpt = cpt + 1\n",
        "    i = i+1"
      ],
      "execution_count": null,
      "outputs": []
    },
    {
      "cell_type": "markdown",
      "metadata": {
        "id": "12-f7s948-jO"
      },
      "source": [
        "## Comparer la fonction premier \"naïve\" et la fonction premier améliorée."
      ]
    },
    {
      "cell_type": "markdown",
      "metadata": {
        "id": "H2ztGuBe9Ew0"
      },
      "source": [
        "#### fonction \"naïve\""
      ]
    },
    {
      "cell_type": "code",
      "metadata": {
        "colab": {
          "base_uri": "https://localhost:8080/"
        },
        "id": "xM2TAvBZ9HZB",
        "outputId": "98123edd-4fb0-4055-c3c1-f45b2cc65e03"
      },
      "source": [
        "def premier(n):\n",
        "    resu = True\n",
        "    d = 2\n",
        "    while (d<n) :\n",
        "        r = n%d\n",
        "        if r==0 :\n",
        "            resu = False\n",
        "        d = d+1\n",
        "    return resu\n",
        "\n",
        "\n",
        "N =1000\n",
        "i = 1\n",
        "cpt = 0\n",
        "while cpt < N :\n",
        "    i = i+1 \n",
        "    if premier(i): # si i est un nombre premier\n",
        "        cpt += 1\n",
        "print(i) # i est affiché à l'écran"
      ],
      "execution_count": 27,
      "outputs": [
        {
          "output_type": "stream",
          "text": [
            "7919\n"
          ],
          "name": "stdout"
        }
      ]
    },
    {
      "cell_type": "markdown",
      "metadata": {
        "id": "3Osx7Qe69XA2"
      },
      "source": [
        "#### fonction amélioré"
      ]
    },
    {
      "cell_type": "code",
      "metadata": {
        "colab": {
          "base_uri": "https://localhost:8080/"
        },
        "id": "fPjxh33A9UCr",
        "outputId": "623870ea-8cd8-4388-fb20-e75ff730ea9b"
      },
      "source": [
        "def premier(n):\n",
        "    resu = True\n",
        "    d = 2\n",
        "    while (d**2 <= n) and resu:\n",
        "        r = n%d\n",
        "        if r==0 :\n",
        "            resu = False\n",
        "        d = d+1\n",
        "    return resu\n",
        "\n",
        "\n",
        "N =1000\n",
        "i = 1\n",
        "cpt = 0\n",
        "while cpt < N :\n",
        "    i = i+1 \n",
        "    if premier(i): # si i est un nombre premier\n",
        "        cpt += 1\n",
        "print(i) # i est affiché à l'écran"
      ],
      "execution_count": 26,
      "outputs": [
        {
          "output_type": "stream",
          "text": [
            "7919\n"
          ],
          "name": "stdout"
        }
      ]
    }
  ]
}