{
  "nbformat": 4,
  "nbformat_minor": 0,
  "metadata": {
    "colab": {
      "name": "Memento-Python.ipynb",
      "provenance": [],
      "collapsed_sections": [],
      "authorship_tag": "ABX9TyPy2KZlL5LuQGZwf8/P+P68",
      "include_colab_link": true
    },
    "kernelspec": {
      "name": "python3",
      "display_name": "Python 3"
    }
  },
  "cells": [
    {
      "cell_type": "markdown",
      "metadata": {
        "id": "view-in-github",
        "colab_type": "text"
      },
      "source": [
        "<a href=\"https://colab.research.google.com/github/thfruchart/sio1/blob/master/Memento_Python.ipynb\" target=\"_parent\"><img src=\"https://colab.research.google.com/assets/colab-badge.svg\" alt=\"Open In Colab\"/></a>"
      ]
    },
    {
      "cell_type": "markdown",
      "metadata": {
        "id": "B8FhVpvGU_fj",
        "colab_type": "text"
      },
      "source": [
        "##  Expressions arithmétiques"
      ]
    },
    {
      "cell_type": "code",
      "metadata": {
        "id": "wLOsxtnZRi09",
        "colab_type": "code",
        "colab": {
          "base_uri": "https://localhost:8080/",
          "height": 34
        },
        "outputId": "7dc87cab-e2ae-4831-921b-26c6d9ba1c2a"
      },
      "source": [
        "5**2"
      ],
      "execution_count": 1,
      "outputs": [
        {
          "output_type": "execute_result",
          "data": {
            "text/plain": [
              "25"
            ]
          },
          "metadata": {
            "tags": []
          },
          "execution_count": 1
        }
      ]
    },
    {
      "cell_type": "code",
      "metadata": {
        "id": "sWWJ6ufURmfD",
        "colab_type": "code",
        "colab": {
          "base_uri": "https://localhost:8080/",
          "height": 34
        },
        "outputId": "9e879b89-511a-4dd9-f081-90bbe165791b"
      },
      "source": [
        "13/2"
      ],
      "execution_count": 2,
      "outputs": [
        {
          "output_type": "execute_result",
          "data": {
            "text/plain": [
              "6.5"
            ]
          },
          "metadata": {
            "tags": []
          },
          "execution_count": 2
        }
      ]
    },
    {
      "cell_type": "code",
      "metadata": {
        "id": "SIj3zZAQRkUe",
        "colab_type": "code",
        "colab": {
          "base_uri": "https://localhost:8080/",
          "height": 34
        },
        "outputId": "342d14d4-1553-433e-e1c8-1dc91932180f"
      },
      "source": [
        "13//2"
      ],
      "execution_count": 3,
      "outputs": [
        {
          "output_type": "execute_result",
          "data": {
            "text/plain": [
              "6"
            ]
          },
          "metadata": {
            "tags": []
          },
          "execution_count": 3
        }
      ]
    },
    {
      "cell_type": "code",
      "metadata": {
        "id": "FUHqYp6KRpl5",
        "colab_type": "code",
        "colab": {
          "base_uri": "https://localhost:8080/",
          "height": 34
        },
        "outputId": "5d8a77a6-270a-4080-a934-09df2a613823"
      },
      "source": [
        "13%2"
      ],
      "execution_count": 4,
      "outputs": [
        {
          "output_type": "execute_result",
          "data": {
            "text/plain": [
              "1"
            ]
          },
          "metadata": {
            "tags": []
          },
          "execution_count": 4
        }
      ]
    },
    {
      "cell_type": "markdown",
      "metadata": {
        "id": "haaXx26eS3Pk",
        "colab_type": "text"
      },
      "source": [
        "A RETENIR : \n",
        "\n",
        "en python, $x^n$ s'écrit : \n",
        "\n",
        "```\n",
        "x ** n\n",
        "```\n",
        "\n"
      ]
    },
    {
      "cell_type": "markdown",
      "metadata": {
        "id": "31pQQ8r7SPe_",
        "colab_type": "text"
      },
      "source": [
        "A RETENIR : \n",
        "\n",
        "Si a et b sont deux entiers positifs, alors la **division euclidienne** (entière) de a par b définit le quotient q et le reste r tels que \n",
        "$a = b \\times q +r$ et $0 \\leq r <b$. \n",
        "\n",
        "En python, on a :\n",
        "* q = a // b\n",
        "* r = a%b\n",
        "\n",
        "On évitera d'utiliser ces instructions avec des entiers négatifs... "
      ]
    },
    {
      "cell_type": "code",
      "metadata": {
        "id": "1fCkjbcGLuHW",
        "colab_type": "code",
        "colab": {
          "base_uri": "https://localhost:8080/",
          "height": 425
        },
        "outputId": "32e035f7-052e-4d8c-9c76-37af331f801b"
      },
      "source": [
        "t = 0\n",
        "while t<12:\n",
        "    print('t =', t)\n",
        "    print(t%3)\n",
        "    t = t+1"
      ],
      "execution_count": 5,
      "outputs": [
        {
          "output_type": "stream",
          "text": [
            "t = 0\n",
            "0\n",
            "t = 1\n",
            "1\n",
            "t = 2\n",
            "2\n",
            "t = 3\n",
            "0\n",
            "t = 4\n",
            "1\n",
            "t = 5\n",
            "2\n",
            "t = 6\n",
            "0\n",
            "t = 7\n",
            "1\n",
            "t = 8\n",
            "2\n",
            "t = 9\n",
            "0\n",
            "t = 10\n",
            "1\n",
            "t = 11\n",
            "2\n"
          ],
          "name": "stdout"
        }
      ]
    },
    {
      "cell_type": "code",
      "metadata": {
        "id": "GOS3w2ozMa7L",
        "colab_type": "code",
        "colab": {
          "base_uri": "https://localhost:8080/",
          "height": 34
        },
        "outputId": "393808dd-9a15-4366-90ed-fce96cda966d"
      },
      "source": [
        "t"
      ],
      "execution_count": 6,
      "outputs": [
        {
          "output_type": "execute_result",
          "data": {
            "text/plain": [
              "12"
            ]
          },
          "metadata": {
            "tags": []
          },
          "execution_count": 6
        }
      ]
    },
    {
      "cell_type": "markdown",
      "metadata": {
        "id": "8vuE_UKhqlgo",
        "colab_type": "text"
      },
      "source": [
        "# Opérations sur les textes"
      ]
    },
    {
      "cell_type": "code",
      "metadata": {
        "id": "uQ_dZse5qoUK",
        "colab_type": "code",
        "colab": {
          "base_uri": "https://localhost:8080/",
          "height": 35
        },
        "outputId": "669e65fc-8949-443c-b320-630b6c192af8"
      },
      "source": [
        "\"bon\" + \"jour\""
      ],
      "execution_count": 7,
      "outputs": [
        {
          "output_type": "execute_result",
          "data": {
            "application/vnd.google.colaboratory.intrinsic+json": {
              "type": "string"
            },
            "text/plain": [
              "'bonjour'"
            ]
          },
          "metadata": {
            "tags": []
          },
          "execution_count": 7
        }
      ]
    },
    {
      "cell_type": "code",
      "metadata": {
        "id": "hZnY7W5uqsF_",
        "colab_type": "code",
        "colab": {
          "base_uri": "https://localhost:8080/",
          "height": 35
        },
        "outputId": "a128b374-5175-4069-a2a7-ba21b33e661e"
      },
      "source": [
        "\"bon\" * 2"
      ],
      "execution_count": 10,
      "outputs": [
        {
          "output_type": "execute_result",
          "data": {
            "application/vnd.google.colaboratory.intrinsic+json": {
              "type": "string"
            },
            "text/plain": [
              "'bonbon'"
            ]
          },
          "metadata": {
            "tags": []
          },
          "execution_count": 10
        }
      ]
    },
    {
      "cell_type": "code",
      "metadata": {
        "id": "7nG6WqwEqua1",
        "colab_type": "code",
        "colab": {
          "base_uri": "https://localhost:8080/",
          "height": 35
        },
        "outputId": "880662ef-0cfc-4a54-b386-04cf50b8fcc0"
      },
      "source": [
        "\"A\" * 5 +'h'"
      ],
      "execution_count": 11,
      "outputs": [
        {
          "output_type": "execute_result",
          "data": {
            "application/vnd.google.colaboratory.intrinsic+json": {
              "type": "string"
            },
            "text/plain": [
              "'AAAAAh'"
            ]
          },
          "metadata": {
            "tags": []
          },
          "execution_count": 11
        }
      ]
    },
    {
      "cell_type": "code",
      "metadata": {
        "id": "I391JU46q0P-",
        "colab_type": "code",
        "colab": {
          "base_uri": "https://localhost:8080/",
          "height": 52
        },
        "outputId": "c7ee174b-2b12-4426-90d7-072e08853767"
      },
      "source": [
        "#Une confusion classique :\n",
        "val = input(\"Entrer un nombre\")\n",
        "print(\"le double de ce nombre est : \",  val*2)"
      ],
      "execution_count": 12,
      "outputs": [
        {
          "output_type": "stream",
          "text": [
            "Entrer un nombre2020\n",
            "le double de ce nombre est :  20202020\n"
          ],
          "name": "stdout"
        }
      ]
    },
    {
      "cell_type": "code",
      "metadata": {
        "id": "waL4dpZmNEvp",
        "colab_type": "code",
        "colab": {
          "base_uri": "https://localhost:8080/",
          "height": 35
        },
        "outputId": "e05c7a38-f29d-422d-cf6f-6e8393108307"
      },
      "source": [
        "val"
      ],
      "execution_count": 13,
      "outputs": [
        {
          "output_type": "execute_result",
          "data": {
            "application/vnd.google.colaboratory.intrinsic+json": {
              "type": "string"
            },
            "text/plain": [
              "'2020'"
            ]
          },
          "metadata": {
            "tags": []
          },
          "execution_count": 13
        }
      ]
    },
    {
      "cell_type": "code",
      "metadata": {
        "id": "j6GNiYMHNFrR",
        "colab_type": "code",
        "colab": {}
      },
      "source": [
        ""
      ],
      "execution_count": null,
      "outputs": []
    }
  ]
}