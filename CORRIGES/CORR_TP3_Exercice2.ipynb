{
  "nbformat": 4,
  "nbformat_minor": 0,
  "metadata": {
    "colab": {
      "name": "CORR-TP3-Exercice2.ipynb",
      "provenance": [],
      "collapsed_sections": [],
      "authorship_tag": "ABX9TyM6u+4dtATY+GoXeI9Ll+YC",
      "include_colab_link": true
    },
    "kernelspec": {
      "name": "python3",
      "display_name": "Python 3"
    }
  },
  "cells": [
    {
      "cell_type": "markdown",
      "metadata": {
        "id": "view-in-github",
        "colab_type": "text"
      },
      "source": [
        "<a href=\"https://colab.research.google.com/github/thfruchart/sio1/blob/master/CORRIGES/CORR_TP3_Exercice2.ipynb\" target=\"_parent\"><img src=\"https://colab.research.google.com/assets/colab-badge.svg\" alt=\"Open In Colab\"/></a>"
      ]
    },
    {
      "cell_type": "markdown",
      "metadata": {
        "id": "LcFSOPBCLiTG",
        "colab_type": "text"
      },
      "source": [
        "# TP3 Exercice 2\n",
        "\n",
        "Situation étudiée : un centre d'examen doit convoquer un grand nombre de candidats. Sur sa convocation, chaque candidat possède un numéro de table. \n",
        "Dans une première salle, les tables sont disposées en 19 colonnes, sur 20 rangées\n",
        "\n",
        "Ainsi, la table numéro 44 est situé dans la colonne n°6, au rang n°3.\n",
        "\n",
        "Ecrire un programme python qui :\n",
        "* demande à l'utilisateur de saisir son numéro de table\n",
        "* calcule et affiche le n° de colonne et le n° de rang correspondant. \n",
        "\n",
        "Par exemple : \n",
        "\n",
        "    la table numéro 44 est située\n",
        "    colonne n°:  6\n",
        "    au rang n° :  3"
      ]
    },
    {
      "cell_type": "code",
      "metadata": {
        "id": "fr5NYACvLW8Y",
        "colab_type": "code",
        "colab": {
          "base_uri": "https://localhost:8080/",
          "height": 87
        },
        "outputId": "9c068ffd-73ff-450b-fd20-b82eb51693fe"
      },
      "source": [
        "n = int(input('Entrer le n° de table : '))\n",
        "r = n % 19\n",
        "q = n // 19\n",
        "print('La table n°', n, 'est située')\n",
        "print('colonne n°:', r)\n",
        "print('au rang n°', q)"
      ],
      "execution_count": 3,
      "outputs": [
        {
          "output_type": "stream",
          "text": [
            "Entrer le n° de table : 240\n",
            "La table n° 240 est située\n",
            "colonne n°: 12\n",
            "au rang n° 12\n"
          ],
          "name": "stdout"
        }
      ]
    },
    {
      "cell_type": "code",
      "metadata": {
        "id": "IkdhY4Rrgtaf",
        "colab_type": "code",
        "colab": {
          "base_uri": "https://localhost:8080/",
          "height": 84
        },
        "outputId": "5d37fc11-ca4f-47b9-e444-9ec886e4d187"
      },
      "source": [
        "n = int(input('Entrer le n° de table : '))\n",
        "n = (n-1)\n",
        "r = n % 19 \n",
        "q = n // 19 \n",
        "print('La table n°', n+1, 'est située')\n",
        "print('colonne n°:', r+1)\n",
        "print('au rang n°', q+1)"
      ],
      "execution_count": 13,
      "outputs": [
        {
          "output_type": "stream",
          "text": [
            "Entrer le n° de table : 58\n",
            "La table n° 58 est située\n",
            "colonne n°: 1\n",
            "au rang n° 4\n"
          ],
          "name": "stdout"
        }
      ]
    },
    {
      "cell_type": "code",
      "metadata": {
        "id": "5uY9c0_ui0uf",
        "colab_type": "code",
        "colab": {}
      },
      "source": [
        "n = 1\n",
        "while n <= 0 :\n",
        "    n = int(input('Entrer le n° de table : '))\n",
        "    n = (n-1)\n",
        "    r = n % 19 \n",
        "    q = n // 19 \n",
        "    print('La table n°', n+1, 'est située')\n",
        "    print('colonne n°:', r+1)\n",
        "    print('au rang n°', q+1)"
      ],
      "execution_count": 16,
      "outputs": []
    }
  ]
}