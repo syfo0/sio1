{
  "nbformat": 4,
  "nbformat_minor": 0,
  "metadata": {
    "colab": {
      "name": "CORR-TP3-Exercice2.ipynb",
      "provenance": [],
      "collapsed_sections": [],
      "authorship_tag": "ABX9TyOaLPBwD7f+d2eMkqWvXlhy",
      "include_colab_link": true
    },
    "kernelspec": {
      "name": "python3",
      "display_name": "Python 3"
    }
  },
  "cells": [
    {
      "cell_type": "markdown",
      "metadata": {
        "id": "view-in-github",
        "colab_type": "text"
      },
      "source": [
        "<a href=\"https://colab.research.google.com/github/thfruchart/sio1/blob/master/CORRIGES/CORR_TP3_Exercice2.ipynb\" target=\"_parent\"><img src=\"https://colab.research.google.com/assets/colab-badge.svg\" alt=\"Open In Colab\"/></a>"
      ]
    },
    {
      "cell_type": "markdown",
      "metadata": {
        "id": "LcFSOPBCLiTG",
        "colab_type": "text"
      },
      "source": [
        "# TP3 Exercice 2\n",
        "\n",
        "Situation étudiée : un centre d'examen doit convoquer un grand nombre de candidats. Sur sa convocation, chaque candidat possède un numéro de table. \n",
        "Dans une première salle, les tables sont disposées en 19 colonnes, sur 20 rangées\n",
        "\n",
        "Ainsi, la table numéro 44 est situé dans la colonne n°6, au rang n°3.\n",
        "\n",
        "1) Ecrire un programme python qui :\n",
        "• demande à l'utilisateur de saisir son numéro de table\n",
        "• calcule et affiche le n° de colonne et le n° de rang correspondant. \n",
        "\n",
        "Par exemple : \n",
        "\n",
        "    la table numéro 44 est située\n",
        "    colonne n°:  6\n",
        "    au rang n° :  3"
      ]
    },
    {
      "cell_type": "code",
      "metadata": {
        "id": "fr5NYACvLW8Y",
        "colab_type": "code",
        "colab": {
          "base_uri": "https://localhost:8080/",
          "height": 85
        },
        "outputId": "864bf275-51a6-44f7-cc4d-4f9cc1858a3e"
      },
      "source": [
        "n = int(input('Entrer le n° de table : '))\n",
        "r = n % 19\n",
        "q = n // 19\n",
        "print('La table n°', n, 'est située')\n",
        "print('colonne n°:', r)\n",
        "print('au rang n°', q)"
      ],
      "execution_count": 5,
      "outputs": [
        {
          "output_type": "stream",
          "text": [
            "Entrer le n° de table : 379\n",
            "La table n° 379 est située\n",
            "colonne n°: 18\n",
            "au rang n° 19\n"
          ],
          "name": "stdout"
        }
      ]
    }
  ]
}