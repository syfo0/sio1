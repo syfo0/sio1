{
  "nbformat": 4,
  "nbformat_minor": 0,
  "metadata": {
    "colab": {
      "name": "TP4-exo2.ipynb",
      "provenance": [],
      "collapsed_sections": [],
      "authorship_tag": "ABX9TyN+RbMcdhrjT1yGGQeUjUi/",
      "include_colab_link": true
    },
    "kernelspec": {
      "name": "python3",
      "display_name": "Python 3"
    }
  },
  "cells": [
    {
      "cell_type": "markdown",
      "metadata": {
        "id": "view-in-github",
        "colab_type": "text"
      },
      "source": [
        "<a href=\"https://colab.research.google.com/github/thfruchart/sio1/blob/master/CORRIGES/TP4_exo2.ipynb\" target=\"_parent\"><img src=\"https://colab.research.google.com/assets/colab-badge.svg\" alt=\"Open In Colab\"/></a>"
      ]
    },
    {
      "cell_type": "markdown",
      "metadata": {
        "id": "y-xJMAwm-n22"
      },
      "source": [
        "# Compter le nombre d'espaces dans un texte"
      ]
    },
    {
      "cell_type": "markdown",
      "metadata": {
        "id": "eBQeDvQH-tIE"
      },
      "source": [
        "### Parcourir chaque caractère du texte"
      ]
    },
    {
      "cell_type": "code",
      "metadata": {
        "id": "GuriQT7J-F5s"
      },
      "source": [
        "chn = input('Entrer un texte : ')\n",
        "i=0\n",
        "long = len(chn)\n",
        "while i < long:\n",
        "    car = chn[i]\n",
        "    print(car)\n",
        "    i = i+1"
      ],
      "execution_count": null,
      "outputs": []
    },
    {
      "cell_type": "markdown",
      "metadata": {
        "id": "obsk2zYx-zCT"
      },
      "source": [
        "### Ajouter une variable pour compter les espaces"
      ]
    },
    {
      "cell_type": "code",
      "metadata": {
        "id": "ft1MYqcs-3Wc"
      },
      "source": [
        "chn = input('Entrer un texte : ')\n",
        "i=0\n",
        "long = len(chn)\n",
        "\n",
        "cpt = 0  # on crée une nouvelle variable\n",
        "\n",
        "while i < long:\n",
        "    car = chn[i]\n",
        "    print(car)\n",
        "    if cpt == ' ':  # si un des caractères du texte est un espace\n",
        "        cpt = cpt+1  # alors la variable cpt est incrémentée\n",
        "    i = i+1\n",
        "print(\"Nombre d'espaces \", cpt)\n",
        "print(\"Nombre (probable) de mots :\", cpt+1)"
      ],
      "execution_count": null,
      "outputs": []
    },
    {
      "cell_type": "markdown",
      "metadata": {
        "id": "yFWz9kqd_l_r"
      },
      "source": [
        "### Cas particulier : compter une seule fois plusieurs espaces consécutifs"
      ]
    },
    {
      "cell_type": "code",
      "metadata": {
        "id": "PpDNxBxo_-R4"
      },
      "source": [
        "chn = input('Entrer une chaîne de caractères : ')\n",
        "cpt = 0\n",
        "i = 0\n",
        "le_dernier_caractere_est_un_espace = False\n",
        "\n",
        "while i < len(chn) :\n",
        "    car = chn[i]\n",
        "    if car ==' ':\n",
        "        if le_dernier_caractere_est_un_espace == False :\n",
        "            cpt = cpt+1\n",
        "            le_dernier_caractere_est_un_espace = True\n",
        "    else :\n",
        "        le_dernier_caractere_est_un_espace = False\n",
        "    i = i+1\n",
        "\n",
        "\n",
        "print(\"nombre (probable) de mots : \", cpt+1)"
      ],
      "execution_count": null,
      "outputs": []
    }
  ]
}