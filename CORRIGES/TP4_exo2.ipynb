{
  "nbformat": 4,
  "nbformat_minor": 0,
  "metadata": {
    "colab": {
      "name": "TP4-exo2.ipynb",
      "provenance": [],
      "collapsed_sections": [],
      "authorship_tag": "ABX9TyOqwKmRgzlIV+f0XgwYuyUB",
      "include_colab_link": true
    },
    "kernelspec": {
      "name": "python3",
      "display_name": "Python 3"
    }
  },
  "cells": [
    {
      "cell_type": "markdown",
      "metadata": {
        "id": "view-in-github",
        "colab_type": "text"
      },
      "source": [
        "<a href=\"https://colab.research.google.com/github/thfruchart/sio1/blob/master/CORRIGES/TP4_exo2.ipynb\" target=\"_parent\"><img src=\"https://colab.research.google.com/assets/colab-badge.svg\" alt=\"Open In Colab\"/></a>"
      ]
    },
    {
      "cell_type": "markdown",
      "metadata": {
        "id": "y-xJMAwm-n22"
      },
      "source": [
        "# Compter le nombre d'espaces dans un texte"
      ]
    },
    {
      "cell_type": "markdown",
      "metadata": {
        "id": "eBQeDvQH-tIE"
      },
      "source": [
        "### Parcourir chaque caractère du texte"
      ]
    },
    {
      "cell_type": "code",
      "metadata": {
        "id": "GuriQT7J-F5s",
        "outputId": "59161922-a291-43a4-9c08-088a39eb5b7f",
        "colab": {
          "base_uri": "https://localhost:8080/",
          "height": 173
        }
      },
      "source": [
        "chn = input('Entrer un texte : ')\n",
        "i=0\n",
        "long = len(chn)\n",
        "while i < long:\n",
        "    car = chn[i]\n",
        "    print(car)\n",
        "    i = i+1"
      ],
      "execution_count": 2,
      "outputs": [
        {
          "output_type": "stream",
          "text": [
            "Entrer un texte : a z e r \n",
            "a\n",
            " \n",
            "z\n",
            " \n",
            "e\n",
            " \n",
            "r\n",
            " \n"
          ],
          "name": "stdout"
        }
      ]
    },
    {
      "cell_type": "markdown",
      "metadata": {
        "id": "obsk2zYx-zCT"
      },
      "source": [
        "### Ajouter une variable pour compter les espaces"
      ]
    },
    {
      "cell_type": "code",
      "metadata": {
        "id": "ft1MYqcs-3Wc",
        "outputId": "af66fd02-9764-4081-d199-609e6e302816",
        "colab": {
          "base_uri": "https://localhost:8080/",
          "height": 121
        }
      },
      "source": [
        "chn = input('Entrer un texte : ')\n",
        "i=0\n",
        "long = len(chn)\n",
        "cpt = 0  # on crée une nouvelle variable\n",
        "while i < long:\n",
        "    car = chn[i]\n",
        "    print(car)\n",
        "    if car == ' ':  # si un des caractères du texte est un espace\n",
        "        cpt = cpt+1  # alors la variable cpt est incrémentée\n",
        "    i = i+1\n",
        "print(\"Nombre d'espaces \", cpt)\n",
        "print(\"Nombre (probable) de mots :\", cpt+1)"
      ],
      "execution_count": 3,
      "outputs": [
        {
          "output_type": "stream",
          "text": [
            "Entrer un texte :    \n",
            " \n",
            " \n",
            " \n",
            "Nombre d'espaces  3\n",
            "Nombre (probable) de mots : 4\n"
          ],
          "name": "stdout"
        }
      ]
    },
    {
      "cell_type": "markdown",
      "metadata": {
        "id": "yFWz9kqd_l_r"
      },
      "source": [
        "### Cas particulier : compter une seule fois plusieurs espaces consécutifs"
      ]
    },
    {
      "cell_type": "code",
      "metadata": {
        "id": "PpDNxBxo_-R4",
        "outputId": "c3b68aa7-c9ad-4990-b198-3f36c4a6bae1",
        "colab": {
          "base_uri": "https://localhost:8080/",
          "height": 51
        }
      },
      "source": [
        "chn = input('Entrer une chaîne de caractères : ')\n",
        "cpt = 0\n",
        "i = 0\n",
        "le_dernier_caractere_est_un_espace = False\n",
        "\n",
        "while i < len(chn) :\n",
        "    car = chn[i]\n",
        "    if car ==' ':\n",
        "        if le_dernier_caractere_est_un_espace == False :\n",
        "            cpt = cpt+1\n",
        "            le_dernier_caractere_est_un_espace = True\n",
        "    else :\n",
        "        le_dernier_caractere_est_un_espace = False\n",
        "    i = i+1\n",
        "\n",
        "\n",
        "print(\"nombre (probable) de mots : \", cpt+1)"
      ],
      "execution_count": 4,
      "outputs": [
        {
          "output_type": "stream",
          "text": [
            "Entrer une chaîne de caractères : A   B   C   D\n",
            "nombre (probable) de mots :  4\n"
          ],
          "name": "stdout"
        }
      ]
    }
  ]
}